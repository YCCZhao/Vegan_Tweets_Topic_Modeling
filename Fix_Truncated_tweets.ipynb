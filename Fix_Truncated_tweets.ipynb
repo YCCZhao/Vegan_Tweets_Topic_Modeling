{
 "cells": [
  {
   "cell_type": "code",
   "execution_count": 2,
   "metadata": {
    "collapsed": true
   },
   "outputs": [],
   "source": [
    "import pickle\n",
    "import json\n",
    "import matplotlib.pyplot as plt\n",
    "import pymongo\n",
    "import tweepy\n",
    "import cnfg\n",
    "import pandas as pd\n",
    "import requests\n",
    "from bson.son import SON\n",
    "from pymongo import MongoClient\n",
    "from sklearn.feature_extraction.text import CountVectorizer\n",
    "from requests_oauthlib import OAuth1\n",
    "\n",
    "\n",
    "%matplotlib inline"
   ]
  },
  {
   "cell_type": "code",
   "execution_count": 3,
   "metadata": {
    "collapsed": true
   },
   "outputs": [],
   "source": [
    "client = MongoClient(port=27017)\n",
    "db = client.tweet_on_vegan\n",
    "vegan_tweets = db.streaming_tweets"
   ]
  },
  {
   "cell_type": "code",
   "execution_count": 4,
   "metadata": {
    "collapsed": true
   },
   "outputs": [],
   "source": [
    "config = cnfg.load(\"/home/ubuntu/Documents/.twitter_config\")\n",
    "\n",
    "oauth = OAuth1(config[\"consumer_key\"],\n",
    "               config[\"consumer_secret\"],\n",
    "               config[\"access_token\"],\n",
    "               config[\"access_token_secret\"])\n",
    "\n",
    "auth = tweepy.AppAuthHandler(config[\"consumer_key\"],\n",
    "                           config[\"consumer_secret\"])\n",
    "#auth.set_access_token(config[\"access_token\"],\n",
    "#                      config[\"access_token_secret\"])\n",
    "api = tweepy.API(auth, wait_on_rate_limit=True, wait_on_rate_limit_notify=True)"
   ]
  },
  {
   "cell_type": "code",
   "execution_count": null,
   "metadata": {},
   "outputs": [
    {
     "name": "stderr",
     "output_type": "stream",
     "text": [
      "/home/ubuntu/anaconda3/lib/python3.6/site-packages/ipykernel_launcher.py:22: DeprecationWarning: update is deprecated. Use replace_one, update_one or update_many instead.\n",
      "/home/ubuntu/anaconda3/lib/python3.6/site-packages/ipykernel_launcher.py:18: DeprecationWarning: update is deprecated. Use replace_one, update_one or update_many instead.\n"
     ]
    },
    {
     "name": "stdout",
     "output_type": "stream",
     "text": [
      "Rate limit reached. Sleeping for: 826\n",
      "Rate limit reached. Sleeping for: 830\n",
      "Rate limit reached. Sleeping for: 831\n",
      "Rate limit reached. Sleeping for: 831\n",
      "Rate limit reached. Sleeping for: 828\n"
     ]
    }
   ],
   "source": [
    "for tweet in vegan_tweets.find({}).skip(116500):\n",
    "    id_ = tweet['id']\n",
    "    if tweet['text'][:2] == \"RT\":\n",
    "        try:\n",
    "            extended_tweet = api.get_status(id_, tweet_mode=\"extended\")\n",
    "        except:\n",
    "            continue\n",
    "            \n",
    "        retweet = 1\n",
    "        try:\n",
    "            full_text = extended_tweet._json['retweeted_status']['full_text']          \n",
    "        except:\n",
    "            try: \n",
    "                full_text = extended_tweet._json['full_text']\n",
    "            except:\n",
    "                continue\n",
    "        vegan_tweets.update({\"_id\": tweet[\"_id\"]}, \n",
    "                            {\"$set\": {\"text\": full_text, \"is_retweet\": retweet}})\n",
    "    else:\n",
    "        retweet = 0\n",
    "        vegan_tweets.update({\"_id\": tweet[\"_id\"]}, \n",
    "                            {\"$set\": {\"is_retweet\": retweet}})\n",
    "\n"
   ]
  },
  {
   "cell_type": "code",
   "execution_count": null,
   "metadata": {
    "collapsed": true
   },
   "outputs": [],
   "source": [
    "extended_tweet = api.get_status(id_, tweet_mode=\"extended\")"
   ]
  }
 ],
 "metadata": {
  "kernelspec": {
   "display_name": "Python 3",
   "language": "python",
   "name": "python3"
  },
  "language_info": {
   "codemirror_mode": {
    "name": "ipython",
    "version": 3
   },
   "file_extension": ".py",
   "mimetype": "text/x-python",
   "name": "python",
   "nbconvert_exporter": "python",
   "pygments_lexer": "ipython3",
   "version": "3.6.3"
  }
 },
 "nbformat": 4,
 "nbformat_minor": 2
}
